{
 "cells": [
  {
   "cell_type": "code",
   "execution_count": 1,
   "metadata": {},
   "outputs": [
    {
     "name": "stdout",
     "output_type": "stream",
     "text": [
      "Vasyl start programming at 16:37:28 July 17 2024. Ivano-Frankivsk is the best city!!!\n"
     ]
    }
   ],
   "source": [
    "from datetime import datetime\n",
    "name = \"Vasyl\"\n",
    "location = \"Ivano-Frankivsk\"\n",
    "current_time = datetime.now().strftime(\"%H:%M:%S %B %d %Y\")\n",
    "\n",
    "print(f\"{name} start programming at {current_time}. {location} is the best city!!!\")"
   ]
  },
  {
   "cell_type": "markdown",
   "metadata": {
    "collapsed": false,
    "jupyter": {
     "outputs_hidden": false
    },
    "pycharm": {
     "name": "#%% md\n"
    }
   },
   "source": [
    "# Main header\n",
    "\n",
    "Hello friend\n",
    "This is first program on python\n",
    "\n",
    "## Second header\n",
    "\n",
    "This is simple text in header H2\n",
    "\n",
    "---\n",
    "\n",
    "This is list what will be\n",
    "1) First program (done)\n",
    "2) Basic program on python\n",
    "3) Advanced program on python\n",
    "4) Etc...\n",
    "\n",
    "---\n",
    "\n",
    "Alternative to header\n",
    "======\n",
    "\n",
    "Completion of the description in the readme file."
   ]
  }
 ],
 "metadata": {
  "kernelspec": {
   "display_name": "Python 3 (ipykernel)",
   "language": "python",
   "name": "python3"
  },
  "language_info": {
   "codemirror_mode": {
    "name": "ipython",
    "version": 3
   },
   "file_extension": ".py",
   "mimetype": "text/x-python",
   "name": "python",
   "nbconvert_exporter": "python",
   "pygments_lexer": "ipython3",
   "version": "3.12.4"
  }
 },
 "nbformat": 4,
 "nbformat_minor": 4
}
